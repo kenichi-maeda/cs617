{
 "cells": [
  {
   "cell_type": "code",
   "execution_count": 1,
   "metadata": {},
   "outputs": [],
   "source": [
    "import pandas as pd\n",
    "\n",
    "# Load your data\n",
    "df = pd.read_csv('combined_with_departments.csv')\n",
    "\n",
    "# Define the function to categorize titles\n",
    "def categorize_title(title):\n",
    "    if 'Lecturer' in title:\n",
    "        return 'Lecturer'\n",
    "    elif 'Associate Professor' in title:\n",
    "        return 'Associate Professor'\n",
    "    elif 'Assistant Professor' in title:\n",
    "        return 'Assistant Professor'\n",
    "    elif 'Professor' in title and 'Assistant' not in title and 'Associate' not in title:\n",
    "        return 'Professor'\n",
    "    else:\n",
    "        return 'Other'\n",
    "\n",
    "# Apply the categorization\n",
    "df['Position Category'] = df['POSITION_TITLE'].apply(categorize_title)\n",
    "\n",
    "# Filter for lecturers\n",
    "lecturer_rows = df[df['Position Category'] == 'Lecturer']\n",
    "lecturer_rows = lecturer_rows[lecturer_rows['DEPARTMENT'] != 'Center of Science & Mathematics in Context']\n",
    "\n",
    "# Compute the average pay\n",
    "average_pay_by_department = lecturer_rows.groupby('DEPARTMENT')['PAY_TOTAL_ACTUAL'].mean()\n",
    "\n",
    "# Filter and sort the data\n",
    "filtered_sorted_pay = average_pay_by_department[average_pay_by_department > 13400].sort_values(ascending=False)\n",
    "\n",
    "# Save to a new CSV file\n",
    "filtered_sorted_pay.to_csv('lecturer.csv', header=True)"
   ]
  },
  {
   "cell_type": "code",
   "execution_count": null,
   "metadata": {},
   "outputs": [],
   "source": []
  }
 ],
 "metadata": {
  "kernelspec": {
   "display_name": "Python 3",
   "language": "python",
   "name": "python3"
  },
  "language_info": {
   "codemirror_mode": {
    "name": "ipython",
    "version": 3
   },
   "file_extension": ".py",
   "mimetype": "text/x-python",
   "name": "python",
   "nbconvert_exporter": "python",
   "pygments_lexer": "ipython3",
   "version": "3.11.3"
  }
 },
 "nbformat": 4,
 "nbformat_minor": 2
}
