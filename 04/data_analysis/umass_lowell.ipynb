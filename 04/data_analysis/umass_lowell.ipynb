{
 "cells": [
  {
   "cell_type": "code",
   "execution_count": 2,
   "metadata": {},
   "outputs": [],
   "source": [
    "import pandas as pd\n",
    "import matplotlib.pyplot as plt\n",
    "df  = pd.read_csv('coach_vs_faculty.csv')\n",
    "\n",
    "df_dartmouth = df[df['DEPARTMENT_LOCATION_ZIP_CODE'] == 'U Mass Dartmouth']\n",
    "df_lowell = df[df['DEPARTMENT_LOCATION_ZIP_CODE'] == 'U Mass Lowell']\n",
    "df_amherst = df[df['DEPARTMENT_LOCATION_ZIP_CODE'] == 'U Mass Amherst']\n",
    "df_boston = df[df['DEPARTMENT_LOCATION_ZIP_CODE'] == 'U Mass Boston']\n",
    "df_worcester = df[df['DEPARTMENT_LOCATION_ZIP_CODE'] == 'U Mass Worcester']\n",
    "\n",
    "import pandas as pd\n",
    "\n",
    "def categorize_title(title):\n",
    "    if 'Soccer' in title or 'Soc' in title:\n",
    "        return 'Soccer'\n",
    "    elif 'Baseball' in title or 'B-ball' in title:\n",
    "        return 'Baseball'\n",
    "    elif 'Track' in title:\n",
    "        return 'Track'\n",
    "    elif 'Softball' in title:\n",
    "        return 'Softball'\n",
    "    elif 'Tennis' in title:\n",
    "        return 'Tennis'\n",
    "    elif 'Volleyball' in title:\n",
    "        return 'Volleyball'\n",
    "    elif 'Lacrose' in title or 'Lacrosse' in title or 'Lax' in title:\n",
    "        return 'Lacrose'\n",
    "    elif 'Basketball' in title:\n",
    "        return 'Basketball'\n",
    "    elif 'Hockey' in title:\n",
    "        return 'Hockey'\n",
    "    elif 'Football' in title:\n",
    "        return 'Football'\n",
    "    elif 'Swim' in title:\n",
    "        return 'Swimming'\n",
    "    else:\n",
    "        return 'Other'\n",
    "    \n",
    "df_lowell_coach = df_lowell[df_lowell['Job'] == 'Coach'].copy()\n",
    "\n",
    "# Apply the function to categorize each position\n",
    "df_lowell_coach['Position Category'] = df_lowell_coach['POSITION_TITLE'].apply(categorize_title)\n",
    "df_lowell_coach = df_lowell_coach[df_lowell_coach['Position Category'] != 'Other']\n",
    "\n",
    "total_pay_by_category = df_lowell_coach.groupby('Position Category')['PAY_TOTAL_ACTUAL'].sum().sort_values(ascending=False)\n",
    "\n",
    "# Save to a new CSV file\n",
    "total_pay_by_category.to_csv('umass_lowell.csv', header=True)\n"
   ]
  },
  {
   "cell_type": "code",
   "execution_count": null,
   "metadata": {},
   "outputs": [],
   "source": []
  }
 ],
 "metadata": {
  "kernelspec": {
   "display_name": "Python 3",
   "language": "python",
   "name": "python3"
  },
  "language_info": {
   "codemirror_mode": {
    "name": "ipython",
    "version": 3
   },
   "file_extension": ".py",
   "mimetype": "text/x-python",
   "name": "python",
   "nbconvert_exporter": "python",
   "pygments_lexer": "ipython3",
   "version": "3.11.3"
  }
 },
 "nbformat": 4,
 "nbformat_minor": 2
}
