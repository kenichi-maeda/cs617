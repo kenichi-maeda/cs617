{
 "cells": [
  {
   "cell_type": "code",
   "execution_count": 61,
   "metadata": {},
   "outputs": [],
   "source": [
    "import pandas as pd\n",
    "import matplotlib.pyplot as plt\n",
    "df  = pd.read_csv('coach_vs_faculty.csv')"
   ]
  },
  {
   "cell_type": "code",
   "execution_count": 62,
   "metadata": {},
   "outputs": [
    {
     "data": {
      "text/html": [
       "<div>\n",
       "<style scoped>\n",
       "    .dataframe tbody tr th:only-of-type {\n",
       "        vertical-align: middle;\n",
       "    }\n",
       "\n",
       "    .dataframe tbody tr th {\n",
       "        vertical-align: top;\n",
       "    }\n",
       "\n",
       "    .dataframe thead th {\n",
       "        text-align: right;\n",
       "    }\n",
       "</style>\n",
       "<table border=\"1\" class=\"dataframe\">\n",
       "  <thead>\n",
       "    <tr style=\"text-align: right;\">\n",
       "      <th></th>\n",
       "      <th>Unnamed: 0</th>\n",
       "      <th>YEAR</th>\n",
       "      <th>POSITION_TITLE</th>\n",
       "      <th>PAY_TOTAL_ACTUAL</th>\n",
       "      <th>ANNUAL_RATE</th>\n",
       "      <th>DEPARTMENT_LOCATION_ZIP_CODE</th>\n",
       "      <th>Job</th>\n",
       "    </tr>\n",
       "  </thead>\n",
       "  <tbody>\n",
       "    <tr>\n",
       "      <th>0</th>\n",
       "      <td>965301</td>\n",
       "      <td>2024</td>\n",
       "      <td>Assistant Professor</td>\n",
       "      <td>20880.78</td>\n",
       "      <td>89000.003</td>\n",
       "      <td>U Mass Dartmouth</td>\n",
       "      <td>Faculty</td>\n",
       "    </tr>\n",
       "    <tr>\n",
       "      <th>1</th>\n",
       "      <td>1001754</td>\n",
       "      <td>2024</td>\n",
       "      <td>Assistant Professor</td>\n",
       "      <td>23538.48</td>\n",
       "      <td>88400.250</td>\n",
       "      <td>U Mass Lowell</td>\n",
       "      <td>Faculty</td>\n",
       "    </tr>\n",
       "    <tr>\n",
       "      <th>2</th>\n",
       "      <td>1019224</td>\n",
       "      <td>2024</td>\n",
       "      <td>Lecturer U of M</td>\n",
       "      <td>1838.72</td>\n",
       "      <td>11951.420</td>\n",
       "      <td>U Mass Amherst</td>\n",
       "      <td>Faculty</td>\n",
       "    </tr>\n",
       "    <tr>\n",
       "      <th>3</th>\n",
       "      <td>1229576</td>\n",
       "      <td>2024</td>\n",
       "      <td>Research Professor A</td>\n",
       "      <td>20192.34</td>\n",
       "      <td>75000.000</td>\n",
       "      <td>U Mass Amherst</td>\n",
       "      <td>Faculty</td>\n",
       "    </tr>\n",
       "    <tr>\n",
       "      <th>4</th>\n",
       "      <td>1263997</td>\n",
       "      <td>2024</td>\n",
       "      <td>Instructor/Lecturer/Trainer</td>\n",
       "      <td>1978.46</td>\n",
       "      <td>6314.880</td>\n",
       "      <td>U Mass Dartmouth</td>\n",
       "      <td>Faculty</td>\n",
       "    </tr>\n",
       "  </tbody>\n",
       "</table>\n",
       "</div>"
      ],
      "text/plain": [
       "   Unnamed: 0  YEAR               POSITION_TITLE  PAY_TOTAL_ACTUAL  \\\n",
       "0      965301  2024          Assistant Professor          20880.78   \n",
       "1     1001754  2024          Assistant Professor          23538.48   \n",
       "2     1019224  2024              Lecturer U of M           1838.72   \n",
       "3     1229576  2024         Research Professor A          20192.34   \n",
       "4     1263997  2024  Instructor/Lecturer/Trainer           1978.46   \n",
       "\n",
       "   ANNUAL_RATE DEPARTMENT_LOCATION_ZIP_CODE      Job  \n",
       "0    89000.003             U Mass Dartmouth  Faculty  \n",
       "1    88400.250                U Mass Lowell  Faculty  \n",
       "2    11951.420               U Mass Amherst  Faculty  \n",
       "3    75000.000               U Mass Amherst  Faculty  \n",
       "4     6314.880             U Mass Dartmouth  Faculty  "
      ]
     },
     "execution_count": 62,
     "metadata": {},
     "output_type": "execute_result"
    }
   ],
   "source": [
    "df.head()"
   ]
  },
  {
   "cell_type": "code",
   "execution_count": 63,
   "metadata": {},
   "outputs": [
    {
     "data": {
      "text/plain": [
       "634221"
      ]
     },
     "execution_count": 63,
     "metadata": {},
     "output_type": "execute_result"
    }
   ],
   "source": [
    "df.size"
   ]
  },
  {
   "cell_type": "code",
   "execution_count": 64,
   "metadata": {},
   "outputs": [
    {
     "data": {
      "text/plain": [
       "array(['U Mass Dartmouth', 'U Mass Lowell', 'U Mass Amherst',\n",
       "       'U Mass Boston', 'U Mass Worcester'], dtype=object)"
      ]
     },
     "execution_count": 64,
     "metadata": {},
     "output_type": "execute_result"
    }
   ],
   "source": [
    "df['DEPARTMENT_LOCATION_ZIP_CODE'].unique()"
   ]
  },
  {
   "cell_type": "code",
   "execution_count": 65,
   "metadata": {},
   "outputs": [],
   "source": [
    "df_dartmouth = df[df['DEPARTMENT_LOCATION_ZIP_CODE'] == 'U Mass Dartmouth']\n",
    "df_lowell = df[df['DEPARTMENT_LOCATION_ZIP_CODE'] == 'U Mass Lowell']\n",
    "df_amherst = df[df['DEPARTMENT_LOCATION_ZIP_CODE'] == 'U Mass Amherst']\n",
    "df_boston = df[df['DEPARTMENT_LOCATION_ZIP_CODE'] == 'U Mass Boston']\n",
    "df_worcester = df[df['DEPARTMENT_LOCATION_ZIP_CODE'] == 'U Mass Worcester']"
   ]
  },
  {
   "cell_type": "code",
   "execution_count": 66,
   "metadata": {},
   "outputs": [
    {
     "data": {
      "text/html": [
       "<div>\n",
       "<style scoped>\n",
       "    .dataframe tbody tr th:only-of-type {\n",
       "        vertical-align: middle;\n",
       "    }\n",
       "\n",
       "    .dataframe tbody tr th {\n",
       "        vertical-align: top;\n",
       "    }\n",
       "\n",
       "    .dataframe thead th {\n",
       "        text-align: right;\n",
       "    }\n",
       "</style>\n",
       "<table border=\"1\" class=\"dataframe\">\n",
       "  <thead>\n",
       "    <tr style=\"text-align: right;\">\n",
       "      <th></th>\n",
       "      <th>Unnamed: 0</th>\n",
       "      <th>YEAR</th>\n",
       "      <th>POSITION_TITLE</th>\n",
       "      <th>PAY_TOTAL_ACTUAL</th>\n",
       "      <th>ANNUAL_RATE</th>\n",
       "      <th>DEPARTMENT_LOCATION_ZIP_CODE</th>\n",
       "      <th>Job</th>\n",
       "    </tr>\n",
       "  </thead>\n",
       "  <tbody>\n",
       "    <tr>\n",
       "      <th>0</th>\n",
       "      <td>965301</td>\n",
       "      <td>2024</td>\n",
       "      <td>Assistant Professor</td>\n",
       "      <td>20880.78</td>\n",
       "      <td>89000.003</td>\n",
       "      <td>U Mass Dartmouth</td>\n",
       "      <td>Faculty</td>\n",
       "    </tr>\n",
       "    <tr>\n",
       "      <th>4</th>\n",
       "      <td>1263997</td>\n",
       "      <td>2024</td>\n",
       "      <td>Instructor/Lecturer/Trainer</td>\n",
       "      <td>1978.46</td>\n",
       "      <td>6314.880</td>\n",
       "      <td>U Mass Dartmouth</td>\n",
       "      <td>Faculty</td>\n",
       "    </tr>\n",
       "    <tr>\n",
       "      <th>14</th>\n",
       "      <td>1912293</td>\n",
       "      <td>2010</td>\n",
       "      <td>Professor</td>\n",
       "      <td>96119.42</td>\n",
       "      <td>98273.500</td>\n",
       "      <td>U Mass Dartmouth</td>\n",
       "      <td>Faculty</td>\n",
       "    </tr>\n",
       "    <tr>\n",
       "      <th>37</th>\n",
       "      <td>1912378</td>\n",
       "      <td>2010</td>\n",
       "      <td>Part-Time Lecturer</td>\n",
       "      <td>18208.68</td>\n",
       "      <td>26537.680</td>\n",
       "      <td>U Mass Dartmouth</td>\n",
       "      <td>Faculty</td>\n",
       "    </tr>\n",
       "    <tr>\n",
       "      <th>42</th>\n",
       "      <td>1912395</td>\n",
       "      <td>2010</td>\n",
       "      <td>FullTime Lecturer</td>\n",
       "      <td>60392.33</td>\n",
       "      <td>60815.820</td>\n",
       "      <td>U Mass Dartmouth</td>\n",
       "      <td>Faculty</td>\n",
       "    </tr>\n",
       "  </tbody>\n",
       "</table>\n",
       "</div>"
      ],
      "text/plain": [
       "    Unnamed: 0  YEAR               POSITION_TITLE  PAY_TOTAL_ACTUAL  \\\n",
       "0       965301  2024          Assistant Professor          20880.78   \n",
       "4      1263997  2024  Instructor/Lecturer/Trainer           1978.46   \n",
       "14     1912293  2010                    Professor          96119.42   \n",
       "37     1912378  2010           Part-Time Lecturer          18208.68   \n",
       "42     1912395  2010            FullTime Lecturer          60392.33   \n",
       "\n",
       "    ANNUAL_RATE DEPARTMENT_LOCATION_ZIP_CODE      Job  \n",
       "0     89000.003             U Mass Dartmouth  Faculty  \n",
       "4      6314.880             U Mass Dartmouth  Faculty  \n",
       "14    98273.500             U Mass Dartmouth  Faculty  \n",
       "37    26537.680             U Mass Dartmouth  Faculty  \n",
       "42    60815.820             U Mass Dartmouth  Faculty  "
      ]
     },
     "execution_count": 66,
     "metadata": {},
     "output_type": "execute_result"
    }
   ],
   "source": [
    "df_dartmouth.head()"
   ]
  },
  {
   "cell_type": "code",
   "execution_count": 67,
   "metadata": {},
   "outputs": [
    {
     "data": {
      "text/plain": [
       "array(['Faculty', 'Coach'], dtype=object)"
      ]
     },
     "execution_count": 67,
     "metadata": {},
     "output_type": "execute_result"
    }
   ],
   "source": [
    "df_amherst['Job'].unique()"
   ]
  },
  {
   "cell_type": "code",
   "execution_count": 68,
   "metadata": {},
   "outputs": [
    {
     "name": "stdout",
     "output_type": "stream",
     "text": [
      "76588.27067188353\n",
      "83679.04985148515\n"
     ]
    }
   ],
   "source": [
    "average_pay_for_faculty = df_amherst.loc[df_amherst['Job'] == 'Faculty', 'PAY_TOTAL_ACTUAL'].mean()\n",
    "average_pay_for_coach = df_amherst.loc[df_amherst['Job'] == 'Coach', 'PAY_TOTAL_ACTUAL'].mean()\n",
    "print(average_pay_for_faculty)\n",
    "print(average_pay_for_coach)"
   ]
  },
  {
   "cell_type": "code",
   "execution_count": 69,
   "metadata": {},
   "outputs": [
    {
     "name": "stdout",
     "output_type": "stream",
     "text": [
      "41722.769838245586\n",
      "46109.438\n"
     ]
    }
   ],
   "source": [
    "average_pay_for_faculty = df_boston.loc[df_boston['Job'] == 'Faculty', 'PAY_TOTAL_ACTUAL'].mean()\n",
    "average_pay_for_coach = df_boston.loc[df_boston['Job'] == 'Coach', 'PAY_TOTAL_ACTUAL'].mean()\n",
    "print(average_pay_for_faculty)\n",
    "print(average_pay_for_coach)"
   ]
  },
  {
   "cell_type": "code",
   "execution_count": 70,
   "metadata": {},
   "outputs": [
    {
     "name": "stdout",
     "output_type": "stream",
     "text": [
      "['Athletic Coach' 'Head Coach, Track' 'Assistant Athletic Coach'\n",
      " 'Head Basketball Coach' 'Head Football Coach' 'Associate Athletic Coach'\n",
      " 'Lead Coach' 'Coach/Trainer']\n"
     ]
    }
   ],
   "source": [
    "df_amherst_coach = df_amherst[df_amherst['Job'] == 'Coach']\n",
    "unique_coach_positions_amherst = df_amherst_coach['POSITION_TITLE'].unique()\n",
    "print(unique_coach_positions_amherst)"
   ]
  },
  {
   "cell_type": "code",
   "execution_count": 71,
   "metadata": {},
   "outputs": [
    {
     "name": "stdout",
     "output_type": "stream",
     "text": [
      "['Head Coach' \"Head Coach Men's Ice Hockey\" 'Associate Head Coach'\n",
      " \"Asst Women's Basketball Coach\" 'Boathouse Dir & Coach Wm Crew'\n",
      " \"Head Coach Men's Soccer\" 'Assistant Head Coach'\n",
      " \"Asst Coach Women's Basketball\" \"Head Coach, Women's Volleyball\"\n",
      " 'Head Womans Soccer Coach' \"Asst Coach - Men's Basketball\"\n",
      " 'Head Coach - Baseball' \"Head Coach of Men's Basketball\"\n",
      " 'Head Softball Coach' \"Head Coach -Women's Volleyball\"\n",
      " \"Head Coach - Women's Soccer\" 'Head Coach - Fld Hock/Asst Dir'\n",
      " \"Head Coach -Women's Fld Hockey\" 'Head Coach-Men X-Country/Track'\n",
      " \"Head Coach - Men's Soccer\" \"Head Coach - Men's Baseball\"\n",
      " 'Boathouse Dir & Coach Wm Row' \"Head Coach - Women's Softball\"\n",
      " \"Head Coach- Women's Basketball\" \"Head Coach -Women's Basketball\"\n",
      " \"Head Coach - Men's Ice Hockey\" \"Asst Coach-Men's Ice Hockey I\"\n",
      " \"Asst Coach-Men's Ice Hockey II\" 'Head Performance Coach'\n",
      " \"Asst Coach -Women's Basketball\" \"Asst Coach -Women's Fld Hockey\"\n",
      " \"Head Coach - Men's Basketball\" 'Asst Coach(First)-Men Bsktball'\n",
      " 'Asst Coach(Second)-Men Bskball' \"Asst Coach - Women's Soccer\"\n",
      " \"Asst Coach - Men's Soccer\" \"Head Coach - Men's Lacrosse\"\n",
      " \"Head Coach - Women's Lacrosse\" 'Assoc Head Coach-Men Basktball'\n",
      " 'Asst Coach(Third)-Men Bskball' \"Asst Coach - Men's Baseball\"\n",
      " \"Asst Coach - Women's Lacrosse\" \"Asst Coach -Women's Volleyball\"\n",
      " \"Asst Coach - Men's Lacrosse\" 'Assoc Head Coach-M&W Track&Fld'\n",
      " \"Asst Coach - Women's Softball\" 'Asst Sports Performance Coach'\n",
      " \"Asst Coach - Men's Ice Hockey\" 'Assoc Head Coach -W Fld Hockey'\n",
      " 'Asst Coach-Track&Fld/X-Country' 'Head Rowing Coach&Boathous Mgr'\n",
      " 'Asst Coach-W Basktb/Recr Coord' 'Recr Coord/Asst Coach-W Basktb'\n",
      " \"Asst Coach-Men's Ice Hockey\" 'Head Sports Performance Coach'\n",
      " \"Assoc Head Coach -Men's Soccer\" 'Assoc Head Coach -Men Lacrosse'\n",
      " 'Assoc Hd Coach-Mens Ice Hockey' 'Res Site Liaison/Train Coach'\n",
      " 'Assistant Coach - Baseball' 'Assistant Coach - Field Hockey'\n",
      " 'Sports Performance Coach' \"Assoc Head Coach-Women's Bsktb\"\n",
      " 'Associate Head Coach-Baseball' 'RHSA Acad Prg Success Coach&OS'\n",
      " \"AssocHeadCoach-Men'sBasketball\" 'Student Success Coach']\n"
     ]
    }
   ],
   "source": [
    "df_lowell_coach = df_lowell[df_lowell['Job'] == 'Coach']\n",
    "unique_coach_positions_lowell = df_lowell_coach['POSITION_TITLE'].unique()\n",
    "print(unique_coach_positions_lowell)"
   ]
  },
  {
   "cell_type": "code",
   "execution_count": 72,
   "metadata": {},
   "outputs": [
    {
     "name": "stdout",
     "output_type": "stream",
     "text": [
      "['Academic Coord/Head Coach' 'Aquatics Dir/Hd Coach M&W Swim'\n",
      " 'Asst Dir Athletics/Head Coach' 'Admin Asst/Head Coach'\n",
      " 'Athletic Fac Coord/Head Coach' 'Recruiting Coord/Head Coach'\n",
      " 'Athletic Adminstr/Head Coach' \"Head Women's Lax Coach/Evnt As\"\n",
      " 'HD Wmns Swim Coach/Equp/Aq Dir' \"Hd Wmn's Lax Coach/Transp Coor\"\n",
      " 'Hybrid HRE Asst-Athletic Coach' 'Hd Coach & Coord Stud Ath Prog'\n",
      " 'Hd Wo Soc Coach & Coor Spec Ev' 'HeadFootballCoach/AlumniCoord'\n",
      " 'Asst Football Coach/Intra Coor' 'Game Mgmt/Wrk St Coord/Coach']\n"
     ]
    }
   ],
   "source": [
    "df_dartmouth_coach = df_dartmouth[df_dartmouth['Job'] == 'Coach']\n",
    "unique_coach_positions_dartmouth = df_dartmouth_coach['POSITION_TITLE'].unique()\n",
    "print(unique_coach_positions_dartmouth)"
   ]
  },
  {
   "cell_type": "code",
   "execution_count": 73,
   "metadata": {},
   "outputs": [
    {
     "name": "stdout",
     "output_type": "stream",
     "text": [
      "['Assessment Coach, CCWT']\n"
     ]
    }
   ],
   "source": [
    "df_worcester_coach = df_worcester[df_worcester['Job'] == 'Coach']\n",
    "unique_coach_positions_worcester = df_worcester_coach['POSITION_TITLE'].unique()\n",
    "print(unique_coach_positions_worcester)"
   ]
  },
  {
   "cell_type": "code",
   "execution_count": 74,
   "metadata": {},
   "outputs": [
    {
     "name": "stdout",
     "output_type": "stream",
     "text": [
      "[\"Head Women's Soccer Coach\" 'Head Mens Baseball Coach'\n",
      " \"Head Women's Ice Hockey Coach\" 'Head Hockey Coach'\n",
      " 'Hd Cross Country & Track Coach' \"Head Women's Softball Coach\"\n",
      " \"Head Woman's B-ball Coach\" \"Head Men's Soccer Coach\"\n",
      " \"Head Coach Men's & Wmns Tennis\" 'Co-Head Volleyball Coach'\n",
      " 'Success Boston Coach' 'Strength & Conditioning Coach'\n",
      " \"Head Coach, Men's Basketball\" 'Coord of Academic Coaching'\n",
      " 'SBI Transition Coach' \"Head Men's Lacrose Coach\" 'Head Track Coach'\n",
      " 'Job Coach' 'Enrollment Coach' 'Early Childhood Leadrshp Coach'\n",
      " 'Head Volleyball Coach' \"Head Women's Basketball Coach\" 'Head Coach'\n",
      " 'Lacrosse Coach']\n"
     ]
    }
   ],
   "source": [
    "df_boston_coach = df_boston[df_boston['Job'] == 'Coach']\n",
    "unique_coach_positions_boston = df_boston_coach['POSITION_TITLE'].unique()\n",
    "print(unique_coach_positions_boston)"
   ]
  },
  {
   "cell_type": "code",
   "execution_count": 75,
   "metadata": {},
   "outputs": [
    {
     "name": "stdout",
     "output_type": "stream",
     "text": [
      "Position Category\n",
      "Other         88\n",
      "Hockey        34\n",
      "Baseball      28\n",
      "Soccer        25\n",
      "Track         17\n",
      "Softball      14\n",
      "Volleyball    14\n",
      "Basketball    12\n",
      "Tennis        11\n",
      "Lacrose        7\n",
      "Name: count, dtype: int64\n"
     ]
    }
   ],
   "source": [
    "import pandas as pd\n",
    "\n",
    "def categorize_title(title):\n",
    "    if 'Soccer' in title or 'Soc' in title:\n",
    "        return 'Soccer'\n",
    "    elif 'Baseball' in title or 'B-ball' in title:\n",
    "        return 'Baseball'\n",
    "    elif 'Track' in title:\n",
    "        return 'Track'\n",
    "    elif 'Softball' in title:\n",
    "        return 'Softball'\n",
    "    elif 'Tennis' in title:\n",
    "        return 'Tennis'\n",
    "    elif 'Volleyball' in title:\n",
    "        return 'Volleyball'\n",
    "    elif 'Lacrose' in title or 'Lacrosse' in title or 'Lax' in title:\n",
    "        return 'Lacrose'\n",
    "    elif 'Basketball' in title:\n",
    "        return 'Basketball'\n",
    "    elif 'Hockey' in title:\n",
    "        return 'Hockey'\n",
    "    elif 'Football' in title:\n",
    "        return 'Football'\n",
    "    elif 'Swim' in title:\n",
    "        return 'Swimming'\n",
    "    else:\n",
    "        return 'Other'\n",
    "    \n",
    "df_boston_coach = df_boston[df_boston['Job'] == 'Coach'].copy()\n",
    "\n",
    "# Apply the function to categorize each position\n",
    "df_boston_coach['Position Category'] = df_boston_coach['POSITION_TITLE'].apply(categorize_title)\n",
    "\n",
    "# Count the occurrences of each category\n",
    "category_counts = df_boston_coach['Position Category'].value_counts()\n",
    "print(category_counts)\n"
   ]
  },
  {
   "cell_type": "code",
   "execution_count": 76,
   "metadata": {},
   "outputs": [
    {
     "data": {
      "text/html": [
       "<div>\n",
       "<style scoped>\n",
       "    .dataframe tbody tr th:only-of-type {\n",
       "        vertical-align: middle;\n",
       "    }\n",
       "\n",
       "    .dataframe tbody tr th {\n",
       "        vertical-align: top;\n",
       "    }\n",
       "\n",
       "    .dataframe thead th {\n",
       "        text-align: right;\n",
       "    }\n",
       "</style>\n",
       "<table border=\"1\" class=\"dataframe\">\n",
       "  <thead>\n",
       "    <tr style=\"text-align: right;\">\n",
       "      <th></th>\n",
       "      <th>Unnamed: 0</th>\n",
       "      <th>YEAR</th>\n",
       "      <th>POSITION_TITLE</th>\n",
       "      <th>PAY_TOTAL_ACTUAL</th>\n",
       "      <th>ANNUAL_RATE</th>\n",
       "      <th>DEPARTMENT_LOCATION_ZIP_CODE</th>\n",
       "      <th>Job</th>\n",
       "      <th>Position Category</th>\n",
       "    </tr>\n",
       "  </thead>\n",
       "  <tbody>\n",
       "    <tr>\n",
       "      <th>89815</th>\n",
       "      <td>2330351</td>\n",
       "      <td>2024</td>\n",
       "      <td>Strength &amp; Conditioning Coach</td>\n",
       "      <td>18720.00</td>\n",
       "      <td>70304.000</td>\n",
       "      <td>U Mass Boston</td>\n",
       "      <td>Coach</td>\n",
       "      <td>Other</td>\n",
       "    </tr>\n",
       "    <tr>\n",
       "      <th>89908</th>\n",
       "      <td>2331021</td>\n",
       "      <td>2024</td>\n",
       "      <td>Enrollment Coach</td>\n",
       "      <td>18432.74</td>\n",
       "      <td>69503.809</td>\n",
       "      <td>U Mass Boston</td>\n",
       "      <td>Coach</td>\n",
       "      <td>Other</td>\n",
       "    </tr>\n",
       "    <tr>\n",
       "      <th>90077</th>\n",
       "      <td>2332140</td>\n",
       "      <td>2024</td>\n",
       "      <td>Job Coach</td>\n",
       "      <td>17122.62</td>\n",
       "      <td>64637.301</td>\n",
       "      <td>U Mass Boston</td>\n",
       "      <td>Coach</td>\n",
       "      <td>Other</td>\n",
       "    </tr>\n",
       "    <tr>\n",
       "      <th>90266</th>\n",
       "      <td>2333309</td>\n",
       "      <td>2024</td>\n",
       "      <td>Head Coach</td>\n",
       "      <td>20736.00</td>\n",
       "      <td>77875.201</td>\n",
       "      <td>U Mass Boston</td>\n",
       "      <td>Coach</td>\n",
       "      <td>Other</td>\n",
       "    </tr>\n",
       "    <tr>\n",
       "      <th>90344</th>\n",
       "      <td>2333940</td>\n",
       "      <td>2024</td>\n",
       "      <td>Head Coach</td>\n",
       "      <td>19384.60</td>\n",
       "      <td>72800.000</td>\n",
       "      <td>U Mass Boston</td>\n",
       "      <td>Coach</td>\n",
       "      <td>Other</td>\n",
       "    </tr>\n",
       "  </tbody>\n",
       "</table>\n",
       "</div>"
      ],
      "text/plain": [
       "       Unnamed: 0  YEAR                 POSITION_TITLE  PAY_TOTAL_ACTUAL  \\\n",
       "89815     2330351  2024  Strength & Conditioning Coach          18720.00   \n",
       "89908     2331021  2024               Enrollment Coach          18432.74   \n",
       "90077     2332140  2024                      Job Coach          17122.62   \n",
       "90266     2333309  2024                     Head Coach          20736.00   \n",
       "90344     2333940  2024                     Head Coach          19384.60   \n",
       "\n",
       "       ANNUAL_RATE DEPARTMENT_LOCATION_ZIP_CODE    Job Position Category  \n",
       "89815    70304.000                U Mass Boston  Coach             Other  \n",
       "89908    69503.809                U Mass Boston  Coach             Other  \n",
       "90077    64637.301                U Mass Boston  Coach             Other  \n",
       "90266    77875.201                U Mass Boston  Coach             Other  \n",
       "90344    72800.000                U Mass Boston  Coach             Other  "
      ]
     },
     "execution_count": 76,
     "metadata": {},
     "output_type": "execute_result"
    }
   ],
   "source": [
    "df_boston_coach.tail()"
   ]
  },
  {
   "cell_type": "code",
   "execution_count": 78,
   "metadata": {},
   "outputs": [
    {
     "name": "stdout",
     "output_type": "stream",
     "text": [
      "Position Category\n",
      "Baseball      1641495.53\n",
      "Basketball     751802.07\n",
      "Hockey        1768761.41\n",
      "Lacrose        311636.66\n",
      "Other         2841803.28\n",
      "Soccer        1585489.96\n",
      "Softball       840227.81\n",
      "Tennis         479665.38\n",
      "Track          784965.25\n",
      "Volleyball     521512.15\n",
      "Name: PAY_TOTAL_ACTUAL, dtype: float64\n"
     ]
    }
   ],
   "source": [
    "average_pay_by_category = df_boston_coach.groupby('Position Category')['PAY_TOTAL_ACTUAL'].sum()\n",
    "\n",
    "print(average_pay_by_category)"
   ]
  },
  {
   "cell_type": "code",
   "execution_count": 79,
   "metadata": {},
   "outputs": [
    {
     "name": "stdout",
     "output_type": "stream",
     "text": [
      "Position Category\n",
      "Basketball    18403830.05\n",
      "Football       8844819.58\n",
      "Other         71010501.87\n",
      "Track          3159856.92\n",
      "Name: PAY_TOTAL_ACTUAL, dtype: float64\n"
     ]
    }
   ],
   "source": [
    "df_amherst_coach = df_amherst[df_amherst['Job'] == 'Coach'].copy()\n",
    "\n",
    "\n",
    "df_amherst_coach['Position Category'] = df_amherst_coach['POSITION_TITLE'].apply(categorize_title)\n",
    "\n",
    "category_counts = df_amherst_coach['Position Category'].value_counts()\n",
    "\n",
    "average_pay_by_category = df_amherst_coach.groupby('Position Category')['PAY_TOTAL_ACTUAL'].sum()\n",
    "\n",
    "print(average_pay_by_category)"
   ]
  },
  {
   "cell_type": "code",
   "execution_count": 80,
   "metadata": {},
   "outputs": [
    {
     "name": "stdout",
     "output_type": "stream",
     "text": [
      "Position Category\n",
      "Baseball      1491986.47\n",
      "Basketball    7975232.21\n",
      "Hockey        9650243.94\n",
      "Lacrose       3563764.32\n",
      "Other         4605326.47\n",
      "Soccer        3056275.26\n",
      "Softball      1425024.87\n",
      "Track         2153470.91\n",
      "Volleyball     661846.54\n",
      "Name: PAY_TOTAL_ACTUAL, dtype: float64\n"
     ]
    }
   ],
   "source": [
    "df_lowell_coach = df_lowell[df_lowell['Job'] == 'Coach'].copy()\n",
    "\n",
    "df_lowell_coach['Position Category'] = df_lowell_coach['POSITION_TITLE'].apply(categorize_title)\n",
    "\n",
    "category_counts = df_lowell_coach['Position Category'].value_counts()\n",
    "\n",
    "average_pay_by_category = df_lowell_coach.groupby('Position Category')['PAY_TOTAL_ACTUAL'].sum()\n",
    "\n",
    "print(average_pay_by_category)"
   ]
  },
  {
   "cell_type": "code",
   "execution_count": 81,
   "metadata": {},
   "outputs": [
    {
     "name": "stdout",
     "output_type": "stream",
     "text": [
      "Position Category\n",
      "Football     161828.00\n",
      "Lacrose      282176.43\n",
      "Other       3505407.86\n",
      "Soccer       123470.93\n",
      "Swimming     739876.39\n",
      "Name: PAY_TOTAL_ACTUAL, dtype: float64\n"
     ]
    }
   ],
   "source": [
    "df_dartmouth_coach = df_dartmouth[df_dartmouth['Job'] == 'Coach'].copy()\n",
    "\n",
    "df_dartmouth_coach['Position Category'] = df_dartmouth_coach['POSITION_TITLE'].apply(categorize_title)\n",
    "\n",
    "category_counts = df_dartmouth_coach['Position Category'].value_counts()\n",
    "\n",
    "average_pay_by_category = df_dartmouth_coach.groupby('Position Category')['PAY_TOTAL_ACTUAL'].sum()\n",
    "\n",
    "print(average_pay_by_category)"
   ]
  },
  {
   "cell_type": "code",
   "execution_count": null,
   "metadata": {},
   "outputs": [],
   "source": []
  }
 ],
 "metadata": {
  "kernelspec": {
   "display_name": "Python 3",
   "language": "python",
   "name": "python3"
  },
  "language_info": {
   "codemirror_mode": {
    "name": "ipython",
    "version": 3
   },
   "file_extension": ".py",
   "mimetype": "text/x-python",
   "name": "python",
   "nbconvert_exporter": "python",
   "pygments_lexer": "ipython3",
   "version": "3.11.3"
  }
 },
 "nbformat": 4,
 "nbformat_minor": 2
}
