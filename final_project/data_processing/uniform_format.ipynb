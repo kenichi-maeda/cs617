{
 "cells": [
  {
   "cell_type": "code",
   "execution_count": 4,
   "metadata": {},
   "outputs": [
    {
     "name": "stderr",
     "output_type": "stream",
     "text": [
      "C:\\Users\\kenic\\AppData\\Local\\Temp\\ipykernel_13736\\3118305455.py:3: DtypeWarning: Columns (0) have mixed types. Specify dtype option on import or set low_memory=False.\n",
      "  df = pd.read_csv('../data/crime_reports_2023.csv')\n"
     ]
    },
    {
     "name": "stdout",
     "output_type": "stream",
     "text": [
      "Before 101543\n",
      "After 101543\n"
     ]
    },
    {
     "data": {
      "text/html": [
       "<div>\n",
       "<style scoped>\n",
       "    .dataframe tbody tr th:only-of-type {\n",
       "        vertical-align: middle;\n",
       "    }\n",
       "\n",
       "    .dataframe tbody tr th {\n",
       "        vertical-align: top;\n",
       "    }\n",
       "\n",
       "    .dataframe thead th {\n",
       "        text-align: right;\n",
       "    }\n",
       "</style>\n",
       "<table border=\"1\" class=\"dataframe\">\n",
       "  <thead>\n",
       "    <tr style=\"text-align: right;\">\n",
       "      <th></th>\n",
       "      <th>INCIDENT_NUMBER</th>\n",
       "      <th>OFFENSE_CODE</th>\n",
       "      <th>OFFENSE_CODE_GROUP</th>\n",
       "      <th>OFFENSE_DESCRIPTION</th>\n",
       "      <th>DISTRICT</th>\n",
       "      <th>REPORTING_AREA</th>\n",
       "      <th>SHOOTING</th>\n",
       "      <th>OCCURRED_ON_DATE</th>\n",
       "      <th>YEAR</th>\n",
       "      <th>MONTH</th>\n",
       "      <th>DAY_OF_WEEK</th>\n",
       "      <th>HOUR</th>\n",
       "      <th>UCR_PART</th>\n",
       "      <th>STREET</th>\n",
       "      <th>Lat</th>\n",
       "      <th>Long</th>\n",
       "      <th>Location</th>\n",
       "    </tr>\n",
       "  </thead>\n",
       "  <tbody>\n",
       "    <tr>\n",
       "      <th>0</th>\n",
       "      <td>242028836</td>\n",
       "      <td>3201</td>\n",
       "      <td>NaN</td>\n",
       "      <td>PROPERTY - LOST/ MISSING</td>\n",
       "      <td>A7</td>\n",
       "      <td>16</td>\n",
       "      <td>0</td>\n",
       "      <td>2023-01-01</td>\n",
       "      <td>2023</td>\n",
       "      <td>1</td>\n",
       "      <td>Sunday</td>\n",
       "      <td>0</td>\n",
       "      <td>NaN</td>\n",
       "      <td>E EAGLE ST</td>\n",
       "      <td>42.381325</td>\n",
       "      <td>-71.028040</td>\n",
       "      <td>(42.38132453142911, -71.02804042233107)</td>\n",
       "    </tr>\n",
       "    <tr>\n",
       "      <th>1</th>\n",
       "      <td>242008994</td>\n",
       "      <td>1102</td>\n",
       "      <td>NaN</td>\n",
       "      <td>FRAUD - FALSE PRETENSE / SCHEME</td>\n",
       "      <td>E5</td>\n",
       "      <td>691</td>\n",
       "      <td>0</td>\n",
       "      <td>2023-01-01</td>\n",
       "      <td>2023</td>\n",
       "      <td>1</td>\n",
       "      <td>Sunday</td>\n",
       "      <td>0</td>\n",
       "      <td>NaN</td>\n",
       "      <td>CENTRE ST</td>\n",
       "      <td>42.287093</td>\n",
       "      <td>-71.148222</td>\n",
       "      <td>(42.28709320338153, -71.14822209118665)</td>\n",
       "    </tr>\n",
       "    <tr>\n",
       "      <th>2</th>\n",
       "      <td>232079828</td>\n",
       "      <td>2914</td>\n",
       "      <td>NaN</td>\n",
       "      <td>VAL - OPERATING W/O AUTHORIZATION LAWFUL</td>\n",
       "      <td>B2</td>\n",
       "      <td>321</td>\n",
       "      <td>0</td>\n",
       "      <td>2023-01-01</td>\n",
       "      <td>2023</td>\n",
       "      <td>1</td>\n",
       "      <td>Sunday</td>\n",
       "      <td>0</td>\n",
       "      <td>NaN</td>\n",
       "      <td>BRUNSWICK ST</td>\n",
       "      <td>42.311753</td>\n",
       "      <td>-71.081974</td>\n",
       "      <td>(42.31175303091776, -71.08197438242036)</td>\n",
       "    </tr>\n",
       "    <tr>\n",
       "      <th>3</th>\n",
       "      <td>232001138</td>\n",
       "      <td>614</td>\n",
       "      <td>NaN</td>\n",
       "      <td>LARCENY THEFT FROM MV - NON-ACCESSORY</td>\n",
       "      <td>D4</td>\n",
       "      <td>167</td>\n",
       "      <td>0</td>\n",
       "      <td>2023-01-01</td>\n",
       "      <td>2023</td>\n",
       "      <td>1</td>\n",
       "      <td>Sunday</td>\n",
       "      <td>0</td>\n",
       "      <td>NaN</td>\n",
       "      <td>HARRISON AVE</td>\n",
       "      <td>42.339542</td>\n",
       "      <td>-71.069409</td>\n",
       "      <td>(42.33954152609665, -71.06940928222296)</td>\n",
       "    </tr>\n",
       "    <tr>\n",
       "      <th>4</th>\n",
       "      <td>232003104</td>\n",
       "      <td>3115</td>\n",
       "      <td>NaN</td>\n",
       "      <td>INVESTIGATE PERSON</td>\n",
       "      <td>C11</td>\n",
       "      <td>355</td>\n",
       "      <td>0</td>\n",
       "      <td>2023-01-01</td>\n",
       "      <td>2023</td>\n",
       "      <td>1</td>\n",
       "      <td>Sunday</td>\n",
       "      <td>0</td>\n",
       "      <td>NaN</td>\n",
       "      <td>GIBSON ST</td>\n",
       "      <td>42.297555</td>\n",
       "      <td>-71.059710</td>\n",
       "      <td>(42.297554856340426, -71.05970968687002)</td>\n",
       "    </tr>\n",
       "  </tbody>\n",
       "</table>\n",
       "</div>"
      ],
      "text/plain": [
       "  INCIDENT_NUMBER  OFFENSE_CODE  OFFENSE_CODE_GROUP  \\\n",
       "0       242028836          3201                 NaN   \n",
       "1       242008994          1102                 NaN   \n",
       "2       232079828          2914                 NaN   \n",
       "3       232001138           614                 NaN   \n",
       "4       232003104          3115                 NaN   \n",
       "\n",
       "                        OFFENSE_DESCRIPTION DISTRICT REPORTING_AREA  SHOOTING  \\\n",
       "0                  PROPERTY - LOST/ MISSING       A7             16         0   \n",
       "1           FRAUD - FALSE PRETENSE / SCHEME       E5            691         0   \n",
       "2  VAL - OPERATING W/O AUTHORIZATION LAWFUL       B2            321         0   \n",
       "3     LARCENY THEFT FROM MV - NON-ACCESSORY       D4            167         0   \n",
       "4                        INVESTIGATE PERSON      C11            355         0   \n",
       "\n",
       "  OCCURRED_ON_DATE  YEAR  MONTH DAY_OF_WEEK  HOUR  UCR_PART        STREET  \\\n",
       "0       2023-01-01  2023      1      Sunday     0       NaN    E EAGLE ST   \n",
       "1       2023-01-01  2023      1      Sunday     0       NaN     CENTRE ST   \n",
       "2       2023-01-01  2023      1      Sunday     0       NaN  BRUNSWICK ST   \n",
       "3       2023-01-01  2023      1      Sunday     0       NaN  HARRISON AVE   \n",
       "4       2023-01-01  2023      1      Sunday     0       NaN     GIBSON ST   \n",
       "\n",
       "         Lat       Long                                  Location  \n",
       "0  42.381325 -71.028040   (42.38132453142911, -71.02804042233107)  \n",
       "1  42.287093 -71.148222   (42.28709320338153, -71.14822209118665)  \n",
       "2  42.311753 -71.081974   (42.31175303091776, -71.08197438242036)  \n",
       "3  42.339542 -71.069409   (42.33954152609665, -71.06940928222296)  \n",
       "4  42.297555 -71.059710  (42.297554856340426, -71.05970968687002)  "
      ]
     },
     "execution_count": 4,
     "metadata": {},
     "output_type": "execute_result"
    }
   ],
   "source": [
    "import pandas as pd\n",
    "\n",
    "df = pd.read_csv('../data/crime_reports_2023.csv')\n",
    "print(\"Before\", len(df))\n",
    "\n",
    "df['OCCURRED_ON_DATE'] = pd.to_datetime(df['OCCURRED_ON_DATE']).dt.tz_localize(None)\n",
    "print(\"After\", len(df))\n",
    "\n",
    "df.to_csv('../data/crime_reports_2023_new.csv', index=False)\n",
    "df.head()"
   ]
  },
  {
   "cell_type": "code",
   "execution_count": 5,
   "metadata": {},
   "outputs": [
    {
     "name": "stderr",
     "output_type": "stream",
     "text": [
      "C:\\Users\\kenic\\AppData\\Local\\Temp\\ipykernel_13736\\1537157517.py:1: DtypeWarning: Columns (0) have mixed types. Specify dtype option on import or set low_memory=False.\n",
      "  df = pd.read_csv(\"../data/crime_reports_2019.csv\")\n"
     ]
    }
   ],
   "source": [
    "df = pd.read_csv(\"../data/crime_reports_2019.csv\")\n",
    "\n",
    "df['OCCURRED_ON_DATE'] = pd.to_datetime(df['OCCURRED_ON_DATE'])\n",
    "df['OCCURRED_ON_DATE'] = df['OCCURRED_ON_DATE'].dt.strftime('%Y-%m-%d %H:%M:%S')\n",
    "\n",
    "df.to_csv(\"../data/crime_reports_2019_new.csv\", index=False)"
   ]
  },
  {
   "cell_type": "code",
   "execution_count": 6,
   "metadata": {},
   "outputs": [
    {
     "name": "stderr",
     "output_type": "stream",
     "text": [
      "C:\\Users\\kenic\\AppData\\Local\\Temp\\ipykernel_13736\\1213137372.py:1: DtypeWarning: Columns (0) have mixed types. Specify dtype option on import or set low_memory=False.\n",
      "  df = pd.read_csv(\"../data/crime_reports_2020.csv\")\n"
     ]
    }
   ],
   "source": [
    "df = pd.read_csv(\"../data/crime_reports_2020.csv\")\n",
    "\n",
    "df['OCCURRED_ON_DATE'] = pd.to_datetime(df['OCCURRED_ON_DATE'])\n",
    "df['OCCURRED_ON_DATE'] = df['OCCURRED_ON_DATE'].dt.strftime('%Y-%m-%d %H:%M:%S')\n",
    "\n",
    "df.to_csv(\"../data/crime_reports_2020_new.csv\", index=False)"
   ]
  },
  {
   "cell_type": "code",
   "execution_count": 8,
   "metadata": {},
   "outputs": [
    {
     "name": "stderr",
     "output_type": "stream",
     "text": [
      "C:\\Users\\kenic\\AppData\\Local\\Temp\\ipykernel_13736\\3980182628.py:5: DtypeWarning: Columns (0) have mixed types. Specify dtype option on import or set low_memory=False.\n",
      "  df5 = pd.read_csv('../data/crime_reports_2019_new.csv')\n",
      "C:\\Users\\kenic\\AppData\\Local\\Temp\\ipykernel_13736\\3980182628.py:6: DtypeWarning: Columns (0) have mixed types. Specify dtype option on import or set low_memory=False.\n",
      "  df6 = pd.read_csv('../data/crime_reports_2020_new.csv')\n",
      "C:\\Users\\kenic\\AppData\\Local\\Temp\\ipykernel_13736\\3980182628.py:7: DtypeWarning: Columns (0) have mixed types. Specify dtype option on import or set low_memory=False.\n",
      "  df7 = pd.read_csv('../data/crime_reports_2021.csv')\n",
      "C:\\Users\\kenic\\AppData\\Local\\Temp\\ipykernel_13736\\3980182628.py:8: DtypeWarning: Columns (0) have mixed types. Specify dtype option on import or set low_memory=False.\n",
      "  df8 = pd.read_csv('../data/crime_reports_2022.csv')\n",
      "C:\\Users\\kenic\\AppData\\Local\\Temp\\ipykernel_13736\\3980182628.py:9: DtypeWarning: Columns (0) have mixed types. Specify dtype option on import or set low_memory=False.\n",
      "  df9 = pd.read_csv('../data/crime_reports_2023_new.csv')\n"
     ]
    }
   ],
   "source": [
    "df1 = pd.read_csv('../data/crime_reports_2015.csv')\n",
    "df2 = pd.read_csv('../data/crime_reports_2016.csv')\n",
    "df3 = pd.read_csv('../data/crime_reports_2017.csv')\n",
    "df4 = pd.read_csv('../data/crime_reports_2018.csv')\n",
    "df5 = pd.read_csv('../data/crime_reports_2019_new.csv')\n",
    "df6 = pd.read_csv('../data/crime_reports_2020_new.csv')\n",
    "df7 = pd.read_csv('../data/crime_reports_2021.csv')\n",
    "df8 = pd.read_csv('../data/crime_reports_2022.csv')\n",
    "df9 = pd.read_csv('../data/crime_reports_2023_new.csv')\n",
    "\n",
    "combined_df = pd.concat([df1, df2, df3, df4, df5, df6, df7, df8, df9], ignore_index=True)\n",
    "combined_df.to_csv('../data/combined.csv', index=False)"
   ]
  },
  {
   "cell_type": "code",
   "execution_count": null,
   "metadata": {},
   "outputs": [],
   "source": []
  }
 ],
 "metadata": {
  "kernelspec": {
   "display_name": "Python 3",
   "language": "python",
   "name": "python3"
  },
  "language_info": {
   "codemirror_mode": {
    "name": "ipython",
    "version": 3
   },
   "file_extension": ".py",
   "mimetype": "text/x-python",
   "name": "python",
   "nbconvert_exporter": "python",
   "pygments_lexer": "ipython3",
   "version": "3.11.3"
  }
 },
 "nbformat": 4,
 "nbformat_minor": 2
}
