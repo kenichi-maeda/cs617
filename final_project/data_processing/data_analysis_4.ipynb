{
 "cells": [
  {
   "cell_type": "code",
   "execution_count": 2,
   "metadata": {},
   "outputs": [
    {
     "name": "stderr",
     "output_type": "stream",
     "text": [
      "C:\\Users\\kenic\\AppData\\Local\\Temp\\ipykernel_13388\\501212508.py:5: DtypeWarning: Columns (0,2,6,12) have mixed types. Specify dtype option on import or set low_memory=False.\n",
      "  df = pd.read_csv('../data/only_crimes_.csv')\n"
     ]
    }
   ],
   "source": [
    "import numpy as np\n",
    "import pandas as pd\n",
    "import matplotlib.pyplot as plt\n",
    "\n",
    "df = pd.read_csv('../data/only_crimes_.csv')"
   ]
  },
  {
   "cell_type": "code",
   "execution_count": 3,
   "metadata": {},
   "outputs": [
    {
     "data": {
      "text/html": [
       "<div>\n",
       "<style scoped>\n",
       "    .dataframe tbody tr th:only-of-type {\n",
       "        vertical-align: middle;\n",
       "    }\n",
       "\n",
       "    .dataframe tbody tr th {\n",
       "        vertical-align: top;\n",
       "    }\n",
       "\n",
       "    .dataframe thead th {\n",
       "        text-align: right;\n",
       "    }\n",
       "</style>\n",
       "<table border=\"1\" class=\"dataframe\">\n",
       "  <thead>\n",
       "    <tr style=\"text-align: right;\">\n",
       "      <th></th>\n",
       "      <th>INCIDENT_NUMBER</th>\n",
       "      <th>OFFENSE_CODE</th>\n",
       "      <th>OFFENSE_CODE_GROUP</th>\n",
       "      <th>OFFENSE_DESCRIPTION</th>\n",
       "      <th>DISTRICT</th>\n",
       "      <th>REPORTING_AREA</th>\n",
       "      <th>SHOOTING</th>\n",
       "      <th>OCCURRED_ON_DATE</th>\n",
       "      <th>YEAR</th>\n",
       "      <th>MONTH</th>\n",
       "      <th>DAY_OF_WEEK</th>\n",
       "      <th>HOUR</th>\n",
       "      <th>UCR_PART</th>\n",
       "      <th>STREET</th>\n",
       "      <th>Lat</th>\n",
       "      <th>Long</th>\n",
       "      <th>Location</th>\n",
       "    </tr>\n",
       "  </thead>\n",
       "  <tbody>\n",
       "    <tr>\n",
       "      <th>0</th>\n",
       "      <td>I172040657</td>\n",
       "      <td>2629</td>\n",
       "      <td>Harassment</td>\n",
       "      <td>HARASSMENT</td>\n",
       "      <td>C11</td>\n",
       "      <td>397</td>\n",
       "      <td>NaN</td>\n",
       "      <td>2015-06-15 00:00:00</td>\n",
       "      <td>2015</td>\n",
       "      <td>6</td>\n",
       "      <td>Monday</td>\n",
       "      <td>0</td>\n",
       "      <td>Part Two</td>\n",
       "      <td>MELBOURNE ST</td>\n",
       "      <td>42.291093</td>\n",
       "      <td>-71.065945</td>\n",
       "      <td>(42.29109287, -71.06594539)</td>\n",
       "    </tr>\n",
       "    <tr>\n",
       "      <th>1</th>\n",
       "      <td>I182061268</td>\n",
       "      <td>3201</td>\n",
       "      <td>Property Lost</td>\n",
       "      <td>PROPERTY</td>\n",
       "      <td>NaN</td>\n",
       "      <td></td>\n",
       "      <td>NaN</td>\n",
       "      <td>2015-06-15 00:00:00</td>\n",
       "      <td>2015</td>\n",
       "      <td>6</td>\n",
       "      <td>Monday</td>\n",
       "      <td>0</td>\n",
       "      <td>Part Three</td>\n",
       "      <td>BERNARD</td>\n",
       "      <td>NaN</td>\n",
       "      <td>NaN</td>\n",
       "      <td>NaN</td>\n",
       "    </tr>\n",
       "    <tr>\n",
       "      <th>2</th>\n",
       "      <td>I162013546</td>\n",
       "      <td>3201</td>\n",
       "      <td>Property Lost</td>\n",
       "      <td>PROPERTY</td>\n",
       "      <td>B3</td>\n",
       "      <td>433</td>\n",
       "      <td>NaN</td>\n",
       "      <td>2015-06-15 00:00:00</td>\n",
       "      <td>2015</td>\n",
       "      <td>6</td>\n",
       "      <td>Monday</td>\n",
       "      <td>0</td>\n",
       "      <td>Part Three</td>\n",
       "      <td>NORFOLK ST</td>\n",
       "      <td>42.283634</td>\n",
       "      <td>-71.082813</td>\n",
       "      <td>(42.28363434, -71.08281320)</td>\n",
       "    </tr>\n",
       "    <tr>\n",
       "      <th>3</th>\n",
       "      <td>I152059178</td>\n",
       "      <td>2647</td>\n",
       "      <td>Other</td>\n",
       "      <td>THREATS TO DO BODILY HARM</td>\n",
       "      <td>C11</td>\n",
       "      <td>359</td>\n",
       "      <td>NaN</td>\n",
       "      <td>2015-06-15 00:00:00</td>\n",
       "      <td>2015</td>\n",
       "      <td>6</td>\n",
       "      <td>Monday</td>\n",
       "      <td>0</td>\n",
       "      <td>Part Two</td>\n",
       "      <td>WASHINGTON ST</td>\n",
       "      <td>42.293606</td>\n",
       "      <td>-71.071887</td>\n",
       "      <td>(42.29360585, -71.07188650)</td>\n",
       "    </tr>\n",
       "    <tr>\n",
       "      <th>4</th>\n",
       "      <td>I152049897</td>\n",
       "      <td>3201</td>\n",
       "      <td>Property Lost</td>\n",
       "      <td>PROPERTY</td>\n",
       "      <td>B2</td>\n",
       "      <td>282</td>\n",
       "      <td>NaN</td>\n",
       "      <td>2015-06-15 00:00:00</td>\n",
       "      <td>2015</td>\n",
       "      <td>6</td>\n",
       "      <td>Monday</td>\n",
       "      <td>0</td>\n",
       "      <td>Part Three</td>\n",
       "      <td>WASHINGTON ST</td>\n",
       "      <td>42.328663</td>\n",
       "      <td>-71.085634</td>\n",
       "      <td>(42.32866284, -71.08563401)</td>\n",
       "    </tr>\n",
       "  </tbody>\n",
       "</table>\n",
       "</div>"
      ],
      "text/plain": [
       "  INCIDENT_NUMBER  OFFENSE_CODE OFFENSE_CODE_GROUP        OFFENSE_DESCRIPTION  \\\n",
       "0      I172040657          2629         Harassment                 HARASSMENT   \n",
       "1      I182061268          3201      Property Lost                   PROPERTY   \n",
       "2      I162013546          3201      Property Lost                   PROPERTY   \n",
       "3      I152059178          2647              Other  THREATS TO DO BODILY HARM   \n",
       "4      I152049897          3201      Property Lost                   PROPERTY   \n",
       "\n",
       "  DISTRICT REPORTING_AREA SHOOTING     OCCURRED_ON_DATE  YEAR  MONTH  \\\n",
       "0      C11            397      NaN  2015-06-15 00:00:00  2015      6   \n",
       "1      NaN                     NaN  2015-06-15 00:00:00  2015      6   \n",
       "2       B3            433      NaN  2015-06-15 00:00:00  2015      6   \n",
       "3      C11            359      NaN  2015-06-15 00:00:00  2015      6   \n",
       "4       B2            282      NaN  2015-06-15 00:00:00  2015      6   \n",
       "\n",
       "  DAY_OF_WEEK  HOUR    UCR_PART         STREET        Lat       Long  \\\n",
       "0      Monday     0    Part Two   MELBOURNE ST  42.291093 -71.065945   \n",
       "1      Monday     0  Part Three        BERNARD        NaN        NaN   \n",
       "2      Monday     0  Part Three     NORFOLK ST  42.283634 -71.082813   \n",
       "3      Monday     0    Part Two  WASHINGTON ST  42.293606 -71.071887   \n",
       "4      Monday     0  Part Three  WASHINGTON ST  42.328663 -71.085634   \n",
       "\n",
       "                      Location  \n",
       "0  (42.29109287, -71.06594539)  \n",
       "1                          NaN  \n",
       "2  (42.28363434, -71.08281320)  \n",
       "3  (42.29360585, -71.07188650)  \n",
       "4  (42.32866284, -71.08563401)  "
      ]
     },
     "execution_count": 3,
     "metadata": {},
     "output_type": "execute_result"
    }
   ],
   "source": [
    "df.head()"
   ]
  },
  {
   "cell_type": "code",
   "execution_count": 4,
   "metadata": {},
   "outputs": [
    {
     "data": {
      "text/plain": [
       "array(['C11', nan, 'B3', 'B2', 'A1', 'D4', 'E18', 'D14', 'C6', 'E5',\n",
       "       'A15', 'A7', 'E13', 'External', 'Outside of'], dtype=object)"
      ]
     },
     "execution_count": 4,
     "metadata": {},
     "output_type": "execute_result"
    }
   ],
   "source": [
    "df['DISTRICT'].unique()"
   ]
  },
  {
   "cell_type": "code",
   "execution_count": 6,
   "metadata": {},
   "outputs": [
    {
     "name": "stdout",
     "output_type": "stream",
     "text": [
      "DISTRICT\n",
      "D4            5929\n",
      "A1            5203\n",
      "B2            4600\n",
      "C11           4307\n",
      "B3            3572\n",
      "C6            3180\n",
      "D14           2650\n",
      "E13           2234\n",
      "E18           2108\n",
      "E5            1862\n",
      "A7            1741\n",
      "A15            578\n",
      "External        38\n",
      "Outside of       2\n",
      "Name: count, dtype: int64\n"
     ]
    }
   ],
   "source": [
    "df_2023 = df[df['YEAR'] == 2023].copy()\n",
    "district_counts = df_2023['DISTRICT'].value_counts()\n",
    "print(district_counts)\n",
    "\n",
    "district_counts_df = district_counts.reset_index()\n",
    "district_counts_df.columns = ['DISTRICT', 'COUNT']\n",
    "\n",
    "district_counts_df.to_csv('../data/mapData_total_2023.csv', index=False)"
   ]
  },
  {
   "cell_type": "code",
   "execution_count": 7,
   "metadata": {},
   "outputs": [
    {
     "name": "stdout",
     "output_type": "stream",
     "text": [
      "DISTRICT\n",
      "D4            1291\n",
      "A1             760\n",
      "C11            743\n",
      "C6             656\n",
      "B2             654\n",
      "D14            651\n",
      "B3             419\n",
      "E13            338\n",
      "A7             296\n",
      "E18            282\n",
      "E5             247\n",
      "A15            111\n",
      "External         3\n",
      "Outside of       1\n",
      "Name: count, dtype: int64\n"
     ]
    }
   ],
   "source": [
    "df_2023 = df[(df['YEAR'] == 2023) & (df['OFFENSE_DESCRIPTION']== 'THEFT')].copy()\n",
    "district_counts = df_2023['DISTRICT'].value_counts()\n",
    "print(district_counts)\n",
    "\n",
    "district_counts_df = district_counts.reset_index()\n",
    "district_counts_df.columns = ['DISTRICT', 'COUNT']\n",
    "\n",
    "district_counts_df.to_csv('../data/mapData_theft_2023.csv', index=False)"
   ]
  },
  {
   "cell_type": "code",
   "execution_count": 8,
   "metadata": {},
   "outputs": [
    {
     "name": "stdout",
     "output_type": "stream",
     "text": [
      "DISTRICT\n",
      "A1            801\n",
      "D4            709\n",
      "B2            675\n",
      "C11           505\n",
      "C6            486\n",
      "B3            465\n",
      "D14           256\n",
      "E13           223\n",
      "E18           220\n",
      "A7            207\n",
      "E5            128\n",
      "A15            58\n",
      "External        6\n",
      "Outside of      1\n",
      "Name: count, dtype: int64\n"
     ]
    }
   ],
   "source": [
    "df_2023 = df[(df['YEAR'] == 2023) & (df['OFFENSE_DESCRIPTION']== 'ASSAULT')].copy()\n",
    "district_counts = df_2023['DISTRICT'].value_counts()\n",
    "print(district_counts)\n",
    "\n",
    "district_counts_df = district_counts.reset_index()\n",
    "district_counts_df.columns = ['DISTRICT', 'COUNT']\n",
    "\n",
    "# Export to CSV\n",
    "district_counts_df.to_csv('../data/mapData_assault_2023.csv', index=False)"
   ]
  },
  {
   "cell_type": "code",
   "execution_count": 9,
   "metadata": {},
   "outputs": [
    {
     "name": "stdout",
     "output_type": "stream",
     "text": [
      "DISTRICT\n",
      "B2          233\n",
      "B3          151\n",
      "C11         134\n",
      "E5          126\n",
      "E13         125\n",
      "D4          109\n",
      "E18         106\n",
      "A1           95\n",
      "C6           84\n",
      "A7           62\n",
      "D14          58\n",
      "A15          23\n",
      "External      1\n",
      "Name: count, dtype: int64\n"
     ]
    }
   ],
   "source": [
    "df_2023 = df[(df['YEAR'] == 2023) & (df['OFFENSE_DESCRIPTION']== 'HARASSMENT')].copy()\n",
    "district_counts = df_2023['DISTRICT'].value_counts()\n",
    "print(district_counts)\n",
    "\n",
    "district_counts_df = district_counts.reset_index()\n",
    "district_counts_df.columns = ['DISTRICT', 'COUNT']\n",
    "\n",
    "district_counts_df.to_csv('../data/mapData_harassment_2023.csv', index=False)"
   ]
  },
  {
   "cell_type": "code",
   "execution_count": null,
   "metadata": {},
   "outputs": [],
   "source": []
  }
 ],
 "metadata": {
  "kernelspec": {
   "display_name": "Python 3",
   "language": "python",
   "name": "python3"
  },
  "language_info": {
   "codemirror_mode": {
    "name": "ipython",
    "version": 3
   },
   "file_extension": ".py",
   "mimetype": "text/x-python",
   "name": "python",
   "nbconvert_exporter": "python",
   "pygments_lexer": "ipython3",
   "version": "3.11.3"
  }
 },
 "nbformat": 4,
 "nbformat_minor": 2
}
